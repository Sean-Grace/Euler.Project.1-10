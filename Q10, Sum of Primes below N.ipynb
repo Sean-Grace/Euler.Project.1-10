{
 "cells": [
  {
   "cell_type": "code",
   "execution_count": null,
   "id": "368217b2",
   "metadata": {},
   "outputs": [],
   "source": [
    "#Project Euler 10\n",
    "def SumSieveOfEratosthenes(n):\n",
    "    #Intially very close to Sieve of Eratosthenes\n",
    "    prime = [True for i in range(n+1)]\n",
    "    p = 2\n",
    "    s=0\n",
    "    while (p * p <= n):\n",
    "        if (prime[p] == True):\n",
    "            for i in range(p * p, n+1, p):\n",
    "                prime[i] = False\n",
    "    \n",
    "        p += 1\n",
    "    #The method of saving changes slightly by addition instead of printing\n",
    "    for p in range(2, n+1):\n",
    "        if prime[p]==True:\n",
    "            s +=p\n",
    "    return(s)\n",
    "s=SumSieveOfEratosthenes(2000000)\n",
    "s"
   ]
  }
 ],
 "metadata": {
  "kernelspec": {
   "display_name": "Python 3",
   "language": "python",
   "name": "python3"
  },
  "language_info": {
   "codemirror_mode": {
    "name": "ipython",
    "version": 3
   },
   "file_extension": ".py",
   "mimetype": "text/x-python",
   "name": "python",
   "nbconvert_exporter": "python",
   "pygments_lexer": "ipython3",
   "version": "3.8.8"
  }
 },
 "nbformat": 4,
 "nbformat_minor": 5
}
