{
 "cells": [
  {
   "cell_type": "code",
   "execution_count": null,
   "id": "f29cfb4b",
   "metadata": {},
   "outputs": [],
   "source": [
    "#Project Euler 3\n",
    "import numpy as np\n",
    "\n",
    "def  PrimeFactors(n):\n",
    "    i = 2\n",
    "    factors = np.array([1])\n",
    "    while i * i < n:\n",
    "        while n % i == 0:\n",
    "            n = n / i\n",
    "            factors = np.append(factors,i)\n",
    "        i = i + 1\n",
    "    factors = np.append(factors,n)\n",
    "    print (factors)\n",
    "\n",
    "PrimeFactors(600851475143)"
   ]
  }
 ],
 "metadata": {
  "kernelspec": {
   "display_name": "Python 3",
   "language": "python",
   "name": "python3"
  },
  "language_info": {
   "codemirror_mode": {
    "name": "ipython",
    "version": 3
   },
   "file_extension": ".py",
   "mimetype": "text/x-python",
   "name": "python",
   "nbconvert_exporter": "python",
   "pygments_lexer": "ipython3",
   "version": "3.8.8"
  }
 },
 "nbformat": 4,
 "nbformat_minor": 5
}
