{
 "cells": [
  {
   "cell_type": "code",
   "execution_count": 3,
   "id": "75f8df26",
   "metadata": {},
   "outputs": [
    {
     "name": "stdout",
     "output_type": "stream",
     "text": [
      "[375. 200. 425.]\n"
     ]
    },
    {
     "data": {
      "text/plain": [
       "31875000"
      ]
     },
     "execution_count": 3,
     "metadata": {},
     "output_type": "execute_result"
    }
   ],
   "source": [
    "#Project Euler 9\n",
    "\n",
    "import numpy as np\n",
    "import math as mt\n",
    "\n",
    "def PythagoreanN(n):\n",
    "    pythagorean = np.array([[1,1,0]])\n",
    "    for i in range (1,1000):\n",
    "        for m in range (1,i):\n",
    "            if (mt.sqrt(i**2 + m**2)).is_integer():\n",
    "                pythagorean = np.append(pythagorean,[[i,m,mt.sqrt(i**2 + m**2)]],axis=0)\n",
    "    for i in range(len(pythagorean)):\n",
    "        if pythagorean[i,1]+pythagorean[i,0]+pythagorean[i,2]==1000:\n",
    "            print (pythagorean[i,])\n",
    "            \n",
    "PythagoreanN(1000)\n",
    "375*200*425"
   ]
  },
  {
   "cell_type": "code",
   "execution_count": null,
   "id": "82bffb08",
   "metadata": {},
   "outputs": [],
   "source": []
  }
 ],
 "metadata": {
  "kernelspec": {
   "display_name": "Python 3",
   "language": "python",
   "name": "python3"
  },
  "language_info": {
   "codemirror_mode": {
    "name": "ipython",
    "version": 3
   },
   "file_extension": ".py",
   "mimetype": "text/x-python",
   "name": "python",
   "nbconvert_exporter": "python",
   "pygments_lexer": "ipython3",
   "version": "3.8.8"
  }
 },
 "nbformat": 4,
 "nbformat_minor": 5
}
