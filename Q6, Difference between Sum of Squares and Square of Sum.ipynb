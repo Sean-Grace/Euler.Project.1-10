{
 "cells": [
  {
   "cell_type": "code",
   "execution_count": null,
   "id": "121ef34b",
   "metadata": {},
   "outputs": [],
   "source": [
    "#Project Euler 6\n",
    "\n",
    "def SumOfSquareDiff(n):\n",
    "    #Assigning initial values for Variables\n",
    "    x=0\n",
    "    y=0\n",
    "    #Carrying out calculations for all numbers up to n\n",
    "    for i in range(n+1):\n",
    "        x+=i\n",
    "        y+=i**2\n",
    "        \n",
    "    return(x**2-y)\n",
    "\n",
    "SumOfSquareDiff(100)"
   ]
  }
 ],
 "metadata": {
  "kernelspec": {
   "display_name": "Python 3",
   "language": "python",
   "name": "python3"
  },
  "language_info": {
   "codemirror_mode": {
    "name": "ipython",
    "version": 3
   },
   "file_extension": ".py",
   "mimetype": "text/x-python",
   "name": "python",
   "nbconvert_exporter": "python",
   "pygments_lexer": "ipython3",
   "version": "3.8.8"
  }
 },
 "nbformat": 4,
 "nbformat_minor": 5
}
