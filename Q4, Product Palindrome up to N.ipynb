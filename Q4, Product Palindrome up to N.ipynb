{
 "cells": [
  {
   "cell_type": "code",
   "execution_count": 1,
   "id": "d134bb5e",
   "metadata": {},
   "outputs": [
    {
     "data": {
      "text/plain": [
       "906609"
      ]
     },
     "execution_count": 1,
     "metadata": {},
     "output_type": "execute_result"
    }
   ],
   "source": [
    "#Project Euler 4\n",
    "def Palindrome(m):\n",
    "    n = 0\n",
    "    for a in range(m, 1, -1):\n",
    "        for b in range(a, 1, -1):\n",
    "            x = a * b\n",
    "            if x > n:\n",
    "                s = str(a * b)\n",
    "                if s == s[::-1]:\n",
    "                    n = a * b\n",
    "    return (n)\n",
    "\n",
    "Palindrome(999)"
   ]
  },
  {
   "cell_type": "code",
   "execution_count": null,
   "id": "f67b1688",
   "metadata": {},
   "outputs": [],
   "source": []
  }
 ],
 "metadata": {
  "kernelspec": {
   "display_name": "Python 3",
   "language": "python",
   "name": "python3"
  },
  "language_info": {
   "codemirror_mode": {
    "name": "ipython",
    "version": 3
   },
   "file_extension": ".py",
   "mimetype": "text/x-python",
   "name": "python",
   "nbconvert_exporter": "python",
   "pygments_lexer": "ipython3",
   "version": "3.8.8"
  }
 },
 "nbformat": 4,
 "nbformat_minor": 5
}
