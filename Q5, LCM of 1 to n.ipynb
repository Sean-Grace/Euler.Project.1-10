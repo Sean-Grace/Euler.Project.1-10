{
 "cells": [
  {
   "cell_type": "code",
   "execution_count": null,
   "id": "265fcc88",
   "metadata": {},
   "outputs": [],
   "source": [
    "#Project Euler 5\n",
    "def Divisible(n):\n",
    "    check = [True for i in range (n+1)]\n",
    "    num = 1\n",
    "    p=n\n",
    "    while p>1 :      \n",
    "        if check[p]==True:\n",
    "            num = num*p\n",
    "            check[p]=False\n",
    "            \n",
    "            for i in range (1,p):               \n",
    "                if (p%i)==0:\n",
    "                    check[i]==False\n",
    "                    #break\n",
    "        p=p-1\n",
    "    return(num)\n",
    "\n",
    "Divisible(20)"
   ]
  }
 ],
 "metadata": {
  "kernelspec": {
   "display_name": "Python 3",
   "language": "python",
   "name": "python3"
  },
  "language_info": {
   "codemirror_mode": {
    "name": "ipython",
    "version": 3
   },
   "file_extension": ".py",
   "mimetype": "text/x-python",
   "name": "python",
   "nbconvert_exporter": "python",
   "pygments_lexer": "ipython3",
   "version": "3.8.8"
  }
 },
 "nbformat": 4,
 "nbformat_minor": 5
}
