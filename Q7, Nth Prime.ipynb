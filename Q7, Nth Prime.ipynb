{
 "cells": [
  {
   "cell_type": "code",
   "execution_count": null,
   "id": "8d70b36b",
   "metadata": {},
   "outputs": [],
   "source": [
    "#Project Euler 7\n",
    "import numpy as np\n",
    "\n",
    "def NthPrime(n):\n",
    "    num=3\n",
    "    primes=np.array([2])\n",
    "    while len(primes)<n:\n",
    "\n",
    "            for i in range(2,num):\n",
    "                if (num % i) == 0:\n",
    "                    num=num+1\n",
    "                    break\n",
    "            else:\n",
    "                primes=np.append(primes,num)\n",
    "                num=num+1\n",
    "    return (primes[-1])\n",
    "\n",
    "NthPrime(10001)"
   ]
  }
 ],
 "metadata": {
  "kernelspec": {
   "display_name": "Python 3",
   "language": "python",
   "name": "python3"
  },
  "language_info": {
   "codemirror_mode": {
    "name": "ipython",
    "version": 3
   },
   "file_extension": ".py",
   "mimetype": "text/x-python",
   "name": "python",
   "nbconvert_exporter": "python",
   "pygments_lexer": "ipython3",
   "version": "3.8.8"
  }
 },
 "nbformat": 4,
 "nbformat_minor": 5
}
