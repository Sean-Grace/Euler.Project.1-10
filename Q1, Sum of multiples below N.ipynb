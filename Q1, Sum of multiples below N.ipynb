{
 "cells": [
  {
   "cell_type": "code",
   "execution_count": null,
   "id": "b7c756a7",
   "metadata": {},
   "outputs": [],
   "source": [
    "#Project Euler 1\n",
    "def SumOfMultiples(a,b,N):\n",
    "    m=0\n",
    "    for i in range(1 , N):\n",
    "        if i%a==0 or i%b==0:\n",
    "            m = m+i\n",
    "    print(m)\n",
    "\n",
    "SumOfMultiples(3,5,1000)"
   ]
  }
 ],
 "metadata": {
  "kernelspec": {
   "display_name": "Python 3",
   "language": "python",
   "name": "python3"
  },
  "language_info": {
   "codemirror_mode": {
    "name": "ipython",
    "version": 3
   },
   "file_extension": ".py",
   "mimetype": "text/x-python",
   "name": "python",
   "nbconvert_exporter": "python",
   "pygments_lexer": "ipython3",
   "version": "3.8.8"
  }
 },
 "nbformat": 4,
 "nbformat_minor": 5
}
