{
 "cells": [
  {
   "cell_type": "code",
   "execution_count": 3,
   "id": "fe048638",
   "metadata": {},
   "outputs": [
    {
     "data": {
      "text/plain": [
       "4613732"
      ]
     },
     "execution_count": 3,
     "metadata": {},
     "output_type": "execute_result"
    }
   ],
   "source": [
    "#Project Euler 2\n",
    "import numpy as np\n",
    "\n",
    "def SumOfEvenFib(N):\n",
    "    f = np.array([1,2])#Initialise the 2 summing fibonacci numbers in the sequence\n",
    "    s=2 #initialising sum\n",
    "    q=2 #Seems like an unnesscary complecation just can think of anything better :C\n",
    "    while q<N:\n",
    "        q=f[-2]+f[-1]\n",
    "        f = np.array([f[-1],q])\n",
    "        if q%2==0:#Checking for eveness\n",
    "            s+=q\n",
    "    return s\n",
    "SumOfEvenFib(4000000)"
   ]
  }
 ],
 "metadata": {
  "kernelspec": {
   "display_name": "Python 3",
   "language": "python",
   "name": "python3"
  },
  "language_info": {
   "codemirror_mode": {
    "name": "ipython",
    "version": 3
   },
   "file_extension": ".py",
   "mimetype": "text/x-python",
   "name": "python",
   "nbconvert_exporter": "python",
   "pygments_lexer": "ipython3",
   "version": "3.8.8"
  }
 },
 "nbformat": 4,
 "nbformat_minor": 5
}
